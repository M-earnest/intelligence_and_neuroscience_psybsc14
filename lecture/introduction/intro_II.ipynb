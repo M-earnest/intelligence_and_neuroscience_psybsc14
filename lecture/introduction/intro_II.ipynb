{
 "cells": [
  {
   "cell_type": "markdown",
   "id": "f78bdc5d",
   "metadata": {},
   "source": [
    "# Introduction II - Defining and meauring intelligence\n"
   ]
  },
  {
   "cell_type": "markdown",
   "id": "28990e6f",
   "metadata": {},
   "source": [
    "## Recap\n",
    "\n",
    "## Topic\n",
    "\n",
    "## Goals\n",
    "\n",
    "1. Understand what we are trying to do\n",
    "2. Ask and answer questions\n",
    "3. Have a great time\n",
    "\n",
    "\n",
    "## Materials\n",
    "\n",
    "Barbey, A. K., Karama, S., & Haier, R. J. (Eds.). (2021). The Cambridge handbook of intelligence and cognitive neuroscience. Cambridge University Press.\n",
    "\n",
    "- Chapter 1: Defining and Measuring Intelligence\n",
    "- mind. 1 Frage zum Text vorbereiten o. 1-Satz Kritik am verwendeten Intelligenzbegriff\n",
    "\n",
    "\n",
    "Haier, R. J. (2017). The neuroscience of intelligence. Cambridge University Press.\n",
    "\n",
    "- Chapter 1: What We Know About Intelligence From the Weight of Studies\n",
    "\n",
    "\n",
    "## TlDR\n",
    "\n",
    "## Additional materials\n",
    "\n",
    "## Acknowledgments"
   ]
  }
 ],
 "metadata": {
  "kernelspec": {
   "display_name": "Python 3 (ipykernel)",
   "language": "python",
   "name": "python3"
  },
  "language_info": {
   "codemirror_mode": {
    "name": "ipython",
    "version": 3
   },
   "file_extension": ".py",
   "mimetype": "text/x-python",
   "name": "python",
   "nbconvert_exporter": "python",
   "pygments_lexer": "ipython3",
   "version": "3.7.6"
  }
 },
 "nbformat": 4,
 "nbformat_minor": 5
}
