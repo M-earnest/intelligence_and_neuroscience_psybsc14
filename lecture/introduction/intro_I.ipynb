{
 "cells": [
  {
   "cell_type": "markdown",
   "id": "03309cdb",
   "metadata": {},
   "source": [
    "# Introduction I - general course information\n"
   ]
  },
  {
   "cell_type": "markdown",
   "id": "a9b77264",
   "metadata": {},
   "source": [
    "## Topic\n",
    "\n",
    "General course information, see Presentation below, as well as the sections [overview]() and [outline].\n",
    "\n",
    "\n",
    "## Goals\n",
    "\n",
    "1. Understand what we are trying to do\n",
    "2. Ask and answer questions\n",
    "3. Have a great time\n",
    "\n",
    "\n",
    "## Materials\n",
    "\n",
    "<iframe src=\"https://docs.google.com/presentation/d/1D1aSsh7n6Tkm6Qo709W806OhJnIn3MJLJh62blsF7zs/edit#slide=id.g8074ffaf2c_0_0\" frameborder=\"0\" width=\"700\" height=\"470\" allowfullscreen=\"true\" mozallowfullscreen=\"true\" webkitallowfullscreen=\"true\"></iframe> \n",
    "\n",
    "## TlDR\n",
    "\n",
    "## Additional materials\n",
    "\n",
    "## Acknowledgments"
   ]
  }
 ],
 "metadata": {
  "kernelspec": {
   "display_name": "Python 3 (ipykernel)",
   "language": "python",
   "name": "python3"
  },
  "language_info": {
   "codemirror_mode": {
    "name": "ipython",
    "version": 3
   },
   "file_extension": ".py",
   "mimetype": "text/x-python",
   "name": "python",
   "nbconvert_exporter": "python",
   "pygments_lexer": "ipython3",
   "version": "3.7.6"
  }
 },
 "nbformat": 4,
 "nbformat_minor": 5
}
