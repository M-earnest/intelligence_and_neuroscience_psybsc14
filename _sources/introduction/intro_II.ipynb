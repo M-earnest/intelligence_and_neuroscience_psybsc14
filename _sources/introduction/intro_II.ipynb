{
 "cells": [
  {
   "attachments": {},
   "cell_type": "markdown",
   "id": "f78bdc5d",
   "metadata": {},
   "source": [
    "# Introduction II: Neurowissenschaftliche Methoden der Intelligenzforschung\n"
   ]
  },
  {
   "attachments": {},
   "cell_type": "markdown",
   "id": "28990e6f",
   "metadata": {},
   "source": [
    "## Recap\n",
    "\n",
    "## Topic\n",
    "\n",
    "## Goals\n",
    "\n",
    "1. Understand what we are trying to do\n",
    "2. Ask and answer questions\n",
    "3. Have a great time\n",
    "\n",
    "\n",
    "## Materials\n",
    "\n",
    "<iframe src=\"https://docs.google.com/presentation/d/1ZiGshr-X3TUsQd4CcgZ93fwBXagkVyd08BL9MHe4UdY/edit#slide=id.g23a9a95d790_0_92\" frameborder=\"0\" width=\"700\" height=\"470\" allowfullscreen=\"true\" mozallowfullscreen=\"true\" webkitallowfullscreen=\"true\"></iframe> \n",
    "\n",
    "\n",
    "## TlDR\n",
    "\n",
    "## Additional materials\n",
    "\n",
    "## Acknowledgments"
   ]
  }
 ],
 "metadata": {
  "kernelspec": {
   "display_name": "Python 3 (ipykernel)",
   "language": "python",
   "name": "python3"
  },
  "language_info": {
   "codemirror_mode": {
    "name": "ipython",
    "version": 3
   },
   "file_extension": ".py",
   "mimetype": "text/x-python",
   "name": "python",
   "nbconvert_exporter": "python",
   "pygments_lexer": "ipython3",
   "version": "3.7.6"
  }
 },
 "nbformat": 4,
 "nbformat_minor": 5
}
