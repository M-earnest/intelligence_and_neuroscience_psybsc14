{
 "cells": [
  {
   "attachments": {},
   "cell_type": "markdown",
   "id": "c4d209ee",
   "metadata": {},
   "source": [
    "# Resources"
   ]
  },
  {
   "attachments": {},
   "cell_type": "markdown",
   "id": "49f44532",
   "metadata": {},
   "source": [
    "## Templates for Coursework\n",
    "\n",
    "\n",
    "`Presentation-template`\n",
    "\n",
    "<iframe src=\"https://docs.google.com/presentation/d/1V6i2MJ7U8c_-8FV6dnlpjuCblLhL6ZHg_52lf7ruugE/edit?usp=sharing\" frameborder=\"0\" width=\"700\" height=\"470\" allowfullscreen=\"true\" mozallowfullscreen=\"true\" webkitallowfullscreen=\"true\"></iframe> \n",
    "\n",
    "`Summary-template`\n",
    "\n",
    "-<iframe src=\"https://docs.google.com/document/d/1ujZ_nIct4xQGMNaWWHHwOy2VpLXF__Eb5BzWhsmFYuY/edit?usp=sharing\" frameborder=\"0\" width=\"700\" height=\"470\" allowfullscreen=\"true\" mozallowfullscreen=\"true\" webkitallowfullscreen=\"true\"></iframe> \n",
    "\n",
    "## Neuroanatomy\n",
    "\n",
    "### Brain atlas: \n",
    "\n",
    "- [Jülich Brain Atlas](https://julich-brain-atlas.de/atlas#)\n",
    "- [fibre-structures](https://atlases.ebrains.eu/viewer/#/a:juelich:iav:atlas:v1.0.0:1/t:minds:core:referencespace:v1.0.0:a1655b99-82f1-420f-a3c2-fe80fd4c8588/p:juelich:iav:atlas:v1.0.0:4/@:0.2-4Fk_.-KlpS.0..-0-Tr.2_r2vv._i7zo.2-AeML..72qN..45RoO.BQg~.du2t~..1MC5/f:b08a7dbc-7c75-4ce7-905b-690b2b1e8957--d3ca8fe622051466a5cde547a11111ca)\n",
    "\n",
    "- `Language-specific:` [BrainViewers | GallantLab.org](https://gallantlab.org/brain-viewers/)\n",
    "\n",
    "### Research tools:\n",
    "\n",
    "`Meta-analysis based tools for visualization:`\n",
    "\n",
    "- [Neuroquery](https://neuroquery.org/query?text=speech+processing+)\n",
    "- [Neurosynth](https://neurosynth.org/)\n",
    "\n",
    "`Literature-maps:`\n",
    "\n",
    "- [Research Rabbit](https://www.researchrabbit.ai/)"
   ]
  }
 ],
 "metadata": {
  "kernelspec": {
   "display_name": "Python 3 (ipykernel)",
   "language": "python",
   "name": "python3"
  },
  "language_info": {
   "codemirror_mode": {
    "name": "ipython",
    "version": 3
   },
   "file_extension": ".py",
   "mimetype": "text/x-python",
   "name": "python",
   "nbconvert_exporter": "python",
   "pygments_lexer": "ipython3",
   "version": "3.7.6"
  }
 },
 "nbformat": 4,
 "nbformat_minor": 5
}
